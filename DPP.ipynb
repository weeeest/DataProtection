{
  "nbformat": 4,
  "nbformat_minor": 0,
  "metadata": {
    "colab": {
      "provenance": []
    },
    "kernelspec": {
      "name": "python3",
      "display_name": "Python 3"
    },
    "language_info": {
      "name": "python"
    }
  },
  "cells": [
    {
      "cell_type": "markdown",
      "source": [
        "Import\n"
      ],
      "metadata": {
        "id": "OZMZdPMDlCvy"
      }
    },
    {
      "cell_type": "code",
      "execution_count": 1,
      "metadata": {
        "id": "R7VGvZL0k7d_"
      },
      "outputs": [],
      "source": [
        "from itertools import combinations\n",
        "import pandas as pd\n",
        "import itertools\n",
        "import copy\n",
        "import uuid"
      ]
    },
    {
      "cell_type": "markdown",
      "source": [
        "Data"
      ],
      "metadata": {
        "id": "jjzYyxrDlFD3"
      }
    },
    {
      "cell_type": "code",
      "source": [
        "df = pd.read_csv('BankChurners_real.csv')"
      ],
      "metadata": {
        "id": "CLoMq3wNlGY_"
      },
      "execution_count": 2,
      "outputs": []
    },
    {
      "cell_type": "code",
      "source": [
        "df.head()"
      ],
      "metadata": {
        "colab": {
          "base_uri": "https://localhost:8080/",
          "height": 357
        },
        "id": "y2l_5ocWlLmJ",
        "outputId": "5e519f94-a5fb-4bf0-f4ed-4a9bbf1f99d1"
      },
      "execution_count": 3,
      "outputs": [
        {
          "output_type": "execute_result",
          "data": {
            "text/plain": [
              "   CLIENTNUM     Attrition_Flag  Customer_Age Gender  Dependent_count  \\\n",
              "0  768805383  Existing Customer            45      M                3   \n",
              "1  818770008  Existing Customer            49      F                5   \n",
              "2  713982108  Existing Customer            51      M                3   \n",
              "3  769911858  Existing Customer            40      F                4   \n",
              "4  709106358  Existing Customer            40      M                3   \n",
              "\n",
              "  Education_Level Marital_Status  Income Card_Category  Months_on_book  \\\n",
              "0     High School        Married   61501          Blue              39   \n",
              "1        Graduate         Single   21723          Blue              44   \n",
              "2        Graduate        Married  118804          Blue              36   \n",
              "3     High School        Unknown   35130          Blue              34   \n",
              "4      Uneducated        Married   62303          Blue              21   \n",
              "\n",
              "   Total_Relationship_Count  Months_Inactive_12_mon  Contacts_Count_12_mon  \\\n",
              "0                         5                       1                      3   \n",
              "1                         6                       1                      2   \n",
              "2                         4                       1                      0   \n",
              "3                         3                       4                      1   \n",
              "4                         5                       1                      0   \n",
              "\n",
              "   Credit_Limit  Total_Revolving_Bal  Avg_Open_To_Buy  Zipcode  \n",
              "0       12691.0                  777          11914.0    18914  \n",
              "1        8256.0                  864           7392.0    18625  \n",
              "2        3418.0                    0           3418.0    16878  \n",
              "3        3313.0                 2517            796.0    17490  \n",
              "4        4716.0                    0           4716.0    17879  "
            ],
            "text/html": [
              "\n",
              "  <div id=\"df-18e6a8ff-5503-4a04-9796-3ec760fb6e92\">\n",
              "    <div class=\"colab-df-container\">\n",
              "      <div>\n",
              "<style scoped>\n",
              "    .dataframe tbody tr th:only-of-type {\n",
              "        vertical-align: middle;\n",
              "    }\n",
              "\n",
              "    .dataframe tbody tr th {\n",
              "        vertical-align: top;\n",
              "    }\n",
              "\n",
              "    .dataframe thead th {\n",
              "        text-align: right;\n",
              "    }\n",
              "</style>\n",
              "<table border=\"1\" class=\"dataframe\">\n",
              "  <thead>\n",
              "    <tr style=\"text-align: right;\">\n",
              "      <th></th>\n",
              "      <th>CLIENTNUM</th>\n",
              "      <th>Attrition_Flag</th>\n",
              "      <th>Customer_Age</th>\n",
              "      <th>Gender</th>\n",
              "      <th>Dependent_count</th>\n",
              "      <th>Education_Level</th>\n",
              "      <th>Marital_Status</th>\n",
              "      <th>Income</th>\n",
              "      <th>Card_Category</th>\n",
              "      <th>Months_on_book</th>\n",
              "      <th>Total_Relationship_Count</th>\n",
              "      <th>Months_Inactive_12_mon</th>\n",
              "      <th>Contacts_Count_12_mon</th>\n",
              "      <th>Credit_Limit</th>\n",
              "      <th>Total_Revolving_Bal</th>\n",
              "      <th>Avg_Open_To_Buy</th>\n",
              "      <th>Zipcode</th>\n",
              "    </tr>\n",
              "  </thead>\n",
              "  <tbody>\n",
              "    <tr>\n",
              "      <th>0</th>\n",
              "      <td>768805383</td>\n",
              "      <td>Existing Customer</td>\n",
              "      <td>45</td>\n",
              "      <td>M</td>\n",
              "      <td>3</td>\n",
              "      <td>High School</td>\n",
              "      <td>Married</td>\n",
              "      <td>61501</td>\n",
              "      <td>Blue</td>\n",
              "      <td>39</td>\n",
              "      <td>5</td>\n",
              "      <td>1</td>\n",
              "      <td>3</td>\n",
              "      <td>12691.0</td>\n",
              "      <td>777</td>\n",
              "      <td>11914.0</td>\n",
              "      <td>18914</td>\n",
              "    </tr>\n",
              "    <tr>\n",
              "      <th>1</th>\n",
              "      <td>818770008</td>\n",
              "      <td>Existing Customer</td>\n",
              "      <td>49</td>\n",
              "      <td>F</td>\n",
              "      <td>5</td>\n",
              "      <td>Graduate</td>\n",
              "      <td>Single</td>\n",
              "      <td>21723</td>\n",
              "      <td>Blue</td>\n",
              "      <td>44</td>\n",
              "      <td>6</td>\n",
              "      <td>1</td>\n",
              "      <td>2</td>\n",
              "      <td>8256.0</td>\n",
              "      <td>864</td>\n",
              "      <td>7392.0</td>\n",
              "      <td>18625</td>\n",
              "    </tr>\n",
              "    <tr>\n",
              "      <th>2</th>\n",
              "      <td>713982108</td>\n",
              "      <td>Existing Customer</td>\n",
              "      <td>51</td>\n",
              "      <td>M</td>\n",
              "      <td>3</td>\n",
              "      <td>Graduate</td>\n",
              "      <td>Married</td>\n",
              "      <td>118804</td>\n",
              "      <td>Blue</td>\n",
              "      <td>36</td>\n",
              "      <td>4</td>\n",
              "      <td>1</td>\n",
              "      <td>0</td>\n",
              "      <td>3418.0</td>\n",
              "      <td>0</td>\n",
              "      <td>3418.0</td>\n",
              "      <td>16878</td>\n",
              "    </tr>\n",
              "    <tr>\n",
              "      <th>3</th>\n",
              "      <td>769911858</td>\n",
              "      <td>Existing Customer</td>\n",
              "      <td>40</td>\n",
              "      <td>F</td>\n",
              "      <td>4</td>\n",
              "      <td>High School</td>\n",
              "      <td>Unknown</td>\n",
              "      <td>35130</td>\n",
              "      <td>Blue</td>\n",
              "      <td>34</td>\n",
              "      <td>3</td>\n",
              "      <td>4</td>\n",
              "      <td>1</td>\n",
              "      <td>3313.0</td>\n",
              "      <td>2517</td>\n",
              "      <td>796.0</td>\n",
              "      <td>17490</td>\n",
              "    </tr>\n",
              "    <tr>\n",
              "      <th>4</th>\n",
              "      <td>709106358</td>\n",
              "      <td>Existing Customer</td>\n",
              "      <td>40</td>\n",
              "      <td>M</td>\n",
              "      <td>3</td>\n",
              "      <td>Uneducated</td>\n",
              "      <td>Married</td>\n",
              "      <td>62303</td>\n",
              "      <td>Blue</td>\n",
              "      <td>21</td>\n",
              "      <td>5</td>\n",
              "      <td>1</td>\n",
              "      <td>0</td>\n",
              "      <td>4716.0</td>\n",
              "      <td>0</td>\n",
              "      <td>4716.0</td>\n",
              "      <td>17879</td>\n",
              "    </tr>\n",
              "  </tbody>\n",
              "</table>\n",
              "</div>\n",
              "      <button class=\"colab-df-convert\" onclick=\"convertToInteractive('df-18e6a8ff-5503-4a04-9796-3ec760fb6e92')\"\n",
              "              title=\"Convert this dataframe to an interactive table.\"\n",
              "              style=\"display:none;\">\n",
              "        \n",
              "  <svg xmlns=\"http://www.w3.org/2000/svg\" height=\"24px\"viewBox=\"0 0 24 24\"\n",
              "       width=\"24px\">\n",
              "    <path d=\"M0 0h24v24H0V0z\" fill=\"none\"/>\n",
              "    <path d=\"M18.56 5.44l.94 2.06.94-2.06 2.06-.94-2.06-.94-.94-2.06-.94 2.06-2.06.94zm-11 1L8.5 8.5l.94-2.06 2.06-.94-2.06-.94L8.5 2.5l-.94 2.06-2.06.94zm10 10l.94 2.06.94-2.06 2.06-.94-2.06-.94-.94-2.06-.94 2.06-2.06.94z\"/><path d=\"M17.41 7.96l-1.37-1.37c-.4-.4-.92-.59-1.43-.59-.52 0-1.04.2-1.43.59L10.3 9.45l-7.72 7.72c-.78.78-.78 2.05 0 2.83L4 21.41c.39.39.9.59 1.41.59.51 0 1.02-.2 1.41-.59l7.78-7.78 2.81-2.81c.8-.78.8-2.07 0-2.86zM5.41 20L4 18.59l7.72-7.72 1.47 1.35L5.41 20z\"/>\n",
              "  </svg>\n",
              "      </button>\n",
              "      \n",
              "  <style>\n",
              "    .colab-df-container {\n",
              "      display:flex;\n",
              "      flex-wrap:wrap;\n",
              "      gap: 12px;\n",
              "    }\n",
              "\n",
              "    .colab-df-convert {\n",
              "      background-color: #E8F0FE;\n",
              "      border: none;\n",
              "      border-radius: 50%;\n",
              "      cursor: pointer;\n",
              "      display: none;\n",
              "      fill: #1967D2;\n",
              "      height: 32px;\n",
              "      padding: 0 0 0 0;\n",
              "      width: 32px;\n",
              "    }\n",
              "\n",
              "    .colab-df-convert:hover {\n",
              "      background-color: #E2EBFA;\n",
              "      box-shadow: 0px 1px 2px rgba(60, 64, 67, 0.3), 0px 1px 3px 1px rgba(60, 64, 67, 0.15);\n",
              "      fill: #174EA6;\n",
              "    }\n",
              "\n",
              "    [theme=dark] .colab-df-convert {\n",
              "      background-color: #3B4455;\n",
              "      fill: #D2E3FC;\n",
              "    }\n",
              "\n",
              "    [theme=dark] .colab-df-convert:hover {\n",
              "      background-color: #434B5C;\n",
              "      box-shadow: 0px 1px 3px 1px rgba(0, 0, 0, 0.15);\n",
              "      filter: drop-shadow(0px 1px 2px rgba(0, 0, 0, 0.3));\n",
              "      fill: #FFFFFF;\n",
              "    }\n",
              "  </style>\n",
              "\n",
              "      <script>\n",
              "        const buttonEl =\n",
              "          document.querySelector('#df-18e6a8ff-5503-4a04-9796-3ec760fb6e92 button.colab-df-convert');\n",
              "        buttonEl.style.display =\n",
              "          google.colab.kernel.accessAllowed ? 'block' : 'none';\n",
              "\n",
              "        async function convertToInteractive(key) {\n",
              "          const element = document.querySelector('#df-18e6a8ff-5503-4a04-9796-3ec760fb6e92');\n",
              "          const dataTable =\n",
              "            await google.colab.kernel.invokeFunction('convertToInteractive',\n",
              "                                                     [key], {});\n",
              "          if (!dataTable) return;\n",
              "\n",
              "          const docLinkHtml = 'Like what you see? Visit the ' +\n",
              "            '<a target=\"_blank\" href=https://colab.research.google.com/notebooks/data_table.ipynb>data table notebook</a>'\n",
              "            + ' to learn more about interactive tables.';\n",
              "          element.innerHTML = '';\n",
              "          dataTable['output_type'] = 'display_data';\n",
              "          await google.colab.output.renderOutput(dataTable, element);\n",
              "          const docLink = document.createElement('div');\n",
              "          docLink.innerHTML = docLinkHtml;\n",
              "          element.appendChild(docLink);\n",
              "        }\n",
              "      </script>\n",
              "    </div>\n",
              "  </div>\n",
              "  "
            ]
          },
          "metadata": {},
          "execution_count": 3
        }
      ]
    },
    {
      "cell_type": "markdown",
      "source": [
        "Definition"
      ],
      "metadata": {
        "id": "9JLDhSVslStP"
      }
    },
    {
      "cell_type": "code",
      "source": [
        "df.columns"
      ],
      "metadata": {
        "colab": {
          "base_uri": "https://localhost:8080/"
        },
        "id": "d6hUX2aElSQG",
        "outputId": "2c437d7c-538c-4b2b-9ec1-1856d02febb8"
      },
      "execution_count": 4,
      "outputs": [
        {
          "output_type": "execute_result",
          "data": {
            "text/plain": [
              "Index(['CLIENTNUM', 'Attrition_Flag', 'Customer_Age', 'Gender',\n",
              "       'Dependent_count', 'Education_Level', 'Marital_Status', 'Income',\n",
              "       'Card_Category', 'Months_on_book', 'Total_Relationship_Count',\n",
              "       'Months_Inactive_12_mon', 'Contacts_Count_12_mon', 'Credit_Limit',\n",
              "       'Total_Revolving_Bal', 'Avg_Open_To_Buy', 'Zipcode'],\n",
              "      dtype='object')"
            ]
          },
          "metadata": {},
          "execution_count": 4
        }
      ]
    },
    {
      "cell_type": "code",
      "source": [
        "Q = ['Gender', 'Customer_Age', 'Income', 'Zipcode' ]"
      ],
      "metadata": {
        "id": "bVVEqXIZbnEk"
      },
      "execution_count": 5,
      "outputs": []
    },
    {
      "cell_type": "markdown",
      "source": [
        "Generalization Hirarchy"
      ],
      "metadata": {
        "id": "aaqG6n0Acqp7"
      }
    },
    {
      "cell_type": "markdown",
      "source": [
        "Gender:\n",
        "\n",
        "    m, f -> p\n",
        "\n",
        "Customer Age:\n",
        "\n",
        "    XX -> 0 - 20, 20 - 30, 30 - 40, 40 - 50, 60 +\n",
        "\n",
        "Income:\n",
        "\n",
        "    XXXXX -> 0 - 40k, 40k - 60k, 60k - 80k, 80k - 100k, 100k - 120k, 120k +\n",
        "\n",
        "\n",
        "Zipcode:\n",
        "\n",
        "    XXXXX\n",
        "    XXXX*\n",
        "    XXX**\n",
        "    XX***"
      ],
      "metadata": {
        "id": "JmNJc-B9jte-"
      }
    },
    {
      "cell_type": "code",
      "source": [
        "class NoGeneralization(Exception):\n",
        "  pass\n",
        "\n",
        "# class NotImplemented(Exception)\n",
        "\n",
        "class ValueGeneralization:\n",
        "\n",
        "  def __init__(self, level) :\n",
        "    self.level = level\n",
        "\n",
        "  def generalize(self, value):\n",
        "    raise NotImplementedError\n",
        "\n",
        "  def __copy__(self):\n",
        "    result = self.__class__(self.level)\n",
        "    result.__dict__.update(self.__dict__)\n",
        "\n",
        "    return result\n",
        "\n",
        "  def __deepcopy__(self, memo=None):\n",
        "    result = self.__class__(self.level)\n",
        "    result.__dict__ = copy.deepcopy(self.__dict__)\n",
        "    return result\n",
        "\n",
        "  def __str__(self):\n",
        "    attributes = [f\"{key}={getattr(self, key)}\" for key in self.__dict__]\n",
        "    return f\"Node({', '.join(attributes)})\"\n",
        "\n",
        "class Gender(ValueGeneralization):\n",
        "\n",
        "  def generalize(self, value):\n",
        "    if self.level == 0:\n",
        "      return value\n",
        "    elif self.level == 1:\n",
        "      return 'p'\n",
        "    else:\n",
        "      raise NoGeneralization(\"The level is not defined\")\n",
        "\n",
        "class Customer_Age(ValueGeneralization):\n",
        "\n",
        "  def generalize(self, value):\n",
        "    if self.level == 0:\n",
        "      return value\n",
        "    elif self.level == 1:\n",
        "      return self.first_level_generalize(value)\n",
        "    else:\n",
        "      raise NoGeneralization(\"The level is not defined\")\n",
        "\n",
        "  def first_level_generalize(self, value):\n",
        "    if int(value) >= 0 and int(value) < 20:\n",
        "      return '0 - 20'\n",
        "    if int(value) >= 20 and int(value) < 30:\n",
        "      return '20 - 30'\n",
        "    if int(value) >= 30 and int(value) < 40:\n",
        "      return '30 - 40'\n",
        "    if int(value) >= 40 and int(value) < 50:\n",
        "      return '40 - 50'\n",
        "    if int(value) >= 60:\n",
        "      return '60 + '\n",
        "\n",
        "class Income(ValueGeneralization):\n",
        "\n",
        "  def generalize(self, value):\n",
        "    if self.level == 0:\n",
        "      return value\n",
        "    elif self.level == 1:\n",
        "      return self.first_level_generalize(value)\n",
        "    else:\n",
        "      raise NoGeneralization(\"The level is not defined\")\n",
        "\n",
        "  def first_level_generalize(self, value):\n",
        "    if int(value) >= 0 and int(value) < 40000:\n",
        "      return '0 - 40k'\n",
        "    if int(value) >= 40000 and int(value) < 60000:\n",
        "      return '40k - 60k'\n",
        "    if int(value) >= 60000 and int(value) < 80000:\n",
        "      return '60k - 80k'\n",
        "    if int(value) >= 80000 and int(value) < 100000:\n",
        "      return '80k - 100k'\n",
        "    if int(value) >= 100000 and int(value) < 120000:\n",
        "      return '100k - 120k'\n",
        "    if int(value) >= 120000:\n",
        "      return '120k + '\n",
        "\n",
        "class Zipcode(ValueGeneralization):\n",
        "\n",
        "  def generalize(self, value):\n",
        "    if self.level == 0:\n",
        "      return value\n",
        "    elif self.level == 1:\n",
        "      return self.first_level_generalize(value)\n",
        "    elif self.level == 2:\n",
        "      return self.second_level_generalize(value)\n",
        "    elif self.level == 3:\n",
        "      return self.third_level_generalize(value)\n",
        "    else:\n",
        "      raise NoGeneralization(\"The level is not defined\")\n",
        "\n",
        "  def first_level_generalize(self, value):\n",
        "    return str(value)[:-1] + '*'\n",
        "\n",
        "  def second_level_generalize(self, value):\n",
        "    return str(value)[:-2] + '**'\n",
        "\n",
        "  def third_level_generalize(self, value):\n",
        "    return str(value)[:-3] + '***'\n",
        "\n",
        "# Q = ['Gender', 'Customer_Age', 'Income', 'Zipcode' ]\n",
        "generalization_combination = {'Gender' : 1, 'Customer_Age' : 1, 'Income' : 1, 'Zipcode' : 3}"
      ],
      "metadata": {
        "id": "9zmjImqvcqWp"
      },
      "execution_count": 6,
      "outputs": []
    },
    {
      "cell_type": "markdown",
      "source": [
        "Frequency set"
      ],
      "metadata": {
        "id": "7a-Mfk6mcvSY"
      }
    },
    {
      "cell_type": "code",
      "source": [
        "def get_frequenct_set(df, columns):\n",
        "  return df.groupby(columns).size()"
      ],
      "metadata": {
        "id": "IArazRtNcu1T"
      },
      "execution_count": 7,
      "outputs": []
    },
    {
      "cell_type": "code",
      "source": [
        "def is_K_Anonymous(df, q, k):\n",
        "  frequency = get_frequenct_set(df, q)\n",
        "  for fr in frequency:\n",
        "    if fr < k:\n",
        "      return False\n",
        "  return True"
      ],
      "metadata": {
        "id": "8n2T8T3GbBRB"
      },
      "execution_count": 8,
      "outputs": []
    },
    {
      "cell_type": "code",
      "source": [
        "get_frequenct_set(df, Q)"
      ],
      "metadata": {
        "colab": {
          "base_uri": "https://localhost:8080/"
        },
        "id": "RafhF9pgdA0q",
        "outputId": "10ff8639-163e-4a6c-ed04-a6d9c6f6a239"
      },
      "execution_count": 9,
      "outputs": [
        {
          "output_type": "execute_result",
          "data": {
            "text/plain": [
              "Gender  Customer_Age  Income  Zipcode\n",
              "F       26            1224    16352      1\n",
              "                      3496    17355      1\n",
              "                      7962    17199      1\n",
              "                      8872    16415      1\n",
              "                      11564   16031      1\n",
              "                                        ..\n",
              "M       67            56551   17829      1\n",
              "        68            32582   17111      1\n",
              "                      87406   16981      1\n",
              "        70            14653   16606      1\n",
              "        73            55726   16091      1\n",
              "Length: 10127, dtype: int64"
            ]
          },
          "metadata": {},
          "execution_count": 9
        }
      ]
    },
    {
      "cell_type": "markdown",
      "source": [
        "Define Nodes"
      ],
      "metadata": {
        "id": "mA6GQyyJe7rD"
      }
    },
    {
      "cell_type": "code",
      "source": [
        "class Node:\n",
        "  def __init__(self):\n",
        "    self.id = uuid.uuid4()\n",
        "    self.anonymized = False\n",
        "    self.marked = False\n",
        "    self.direct_nodes = []\n",
        "    self.height = 0\n",
        "\n",
        "  def __copy__(self):\n",
        "    result = Node()\n",
        "    result.__dict__ = copy.copy(self.__dict__)\n",
        "    result.id = uuid.uuid4()\n",
        "    return result\n",
        "\n",
        "  def __deepcopy__(self, memo=None):\n",
        "    result = Node()\n",
        "    result.__dict__= copy.deepcopy(self.__dict__)\n",
        "    result.id = uuid.uuid4()\n",
        "    return result\n",
        "\n",
        "  def __str__(self):\n",
        "    attributes = [f\"{key}={str(getattr(self, key))}\" for key in self.__dict__]\n",
        "    return f\"Node({', '.join(attributes)})\"\n"
      ],
      "metadata": {
        "id": "_oYisUCae7aH"
      },
      "execution_count": 10,
      "outputs": []
    },
    {
      "cell_type": "markdown",
      "source": [
        "Create hirarchy"
      ],
      "metadata": {
        "id": "UKLgZsQCW_dU"
      }
    },
    {
      "cell_type": "code",
      "source": [
        "def is_direct_generalization(n1, n2, columns):\n",
        "  one_diff = False\n",
        "  for column in columns:\n",
        "    level_diff = getattr(n2, column).level - getattr(n1, column).level\n",
        "    if level_diff == 1 and not one_diff:\n",
        "      one_diff = True\n",
        "    elif level_diff != 0:\n",
        "      return False\n",
        "\n",
        "  return True"
      ],
      "metadata": {
        "id": "PznWgk0UIWRB"
      },
      "execution_count": 11,
      "outputs": []
    },
    {
      "cell_type": "code",
      "source": [
        "def add_direct_generalization(nodes, columns):\n",
        "  for n1 in nodes:\n",
        "    n1.direct_nodes = []\n",
        "    for n2 in nodes:\n",
        "      if n1.id == n2.id:\n",
        "        continue\n",
        "      if is_direct_generalization(n1, n2, columns):\n",
        "        n1.direct_nodes.append(n2.id)\n",
        "\n",
        "  return nodes"
      ],
      "metadata": {
        "id": "RBbAv3AgJqSO"
      },
      "execution_count": 12,
      "outputs": []
    },
    {
      "cell_type": "code",
      "source": [
        "\n",
        "def create_hirarchy(generalization_combination, columns):\n",
        "  result = []\n",
        "  node = None\n",
        "  height = 0\n",
        "  indexes = [list(range(generalization_combination[key] +1 )) for key in columns]\n",
        "  combinations = list(itertools.product(*indexes))\n",
        "  for combination in combinations:\n",
        "    node = Node()\n",
        "    for i in range(len(columns)):\n",
        "      setattr(node, columns[i], globals()[columns[i]](combination[i]))\n",
        "\n",
        "    result.append(node)\n",
        "\n",
        "  return add_direct_generalization(result, columns)\n"
      ],
      "metadata": {
        "id": "eOyrpIA2MZPc"
      },
      "execution_count": 13,
      "outputs": []
    },
    {
      "cell_type": "code",
      "source": [
        "nodes = create_hirarchy(generalization_combination, ['Gender', 'Zipcode'])\n",
        "for num in nodes:\n",
        "  print(num)\n",
        "\n",
        "print(len(nodes))"
      ],
      "metadata": {
        "colab": {
          "base_uri": "https://localhost:8080/"
        },
        "id": "0bqUabor_oCX",
        "outputId": "a894856c-3427-4fc0-92f3-f1ad86bd44a2"
      },
      "execution_count": 14,
      "outputs": [
        {
          "output_type": "stream",
          "name": "stdout",
          "text": [
            "Node(id=d2b5e6b3-edcf-4444-9b8a-7e620ab829b5, anonymized=False, marked=False, direct_nodes=[UUID('f72a2fe2-2641-421c-b16a-7a1fb7245189'), UUID('8e8ee018-6aa5-4ec0-beb8-600f26a288e4')], height=0, Gender=Node(level=0), Zipcode=Node(level=0))\n",
            "Node(id=f72a2fe2-2641-421c-b16a-7a1fb7245189, anonymized=False, marked=False, direct_nodes=[UUID('a3fe6c37-457b-4488-89b0-12db27d71df5'), UUID('59e370e4-1c0d-4759-8e74-8fc895f7bf86')], height=0, Gender=Node(level=0), Zipcode=Node(level=1))\n",
            "Node(id=a3fe6c37-457b-4488-89b0-12db27d71df5, anonymized=False, marked=False, direct_nodes=[UUID('669ac2fa-c778-4375-aee2-f6dfc76103a1'), UUID('f55cef33-10c8-4d8d-9d4f-593d3f108241')], height=0, Gender=Node(level=0), Zipcode=Node(level=2))\n",
            "Node(id=669ac2fa-c778-4375-aee2-f6dfc76103a1, anonymized=False, marked=False, direct_nodes=[UUID('82fe8768-c8fd-4ff2-8fdd-af9e9c3dc809')], height=0, Gender=Node(level=0), Zipcode=Node(level=3))\n",
            "Node(id=8e8ee018-6aa5-4ec0-beb8-600f26a288e4, anonymized=False, marked=False, direct_nodes=[UUID('59e370e4-1c0d-4759-8e74-8fc895f7bf86')], height=0, Gender=Node(level=1), Zipcode=Node(level=0))\n",
            "Node(id=59e370e4-1c0d-4759-8e74-8fc895f7bf86, anonymized=False, marked=False, direct_nodes=[UUID('f55cef33-10c8-4d8d-9d4f-593d3f108241')], height=0, Gender=Node(level=1), Zipcode=Node(level=1))\n",
            "Node(id=f55cef33-10c8-4d8d-9d4f-593d3f108241, anonymized=False, marked=False, direct_nodes=[UUID('82fe8768-c8fd-4ff2-8fdd-af9e9c3dc809')], height=0, Gender=Node(level=1), Zipcode=Node(level=2))\n",
            "Node(id=82fe8768-c8fd-4ff2-8fdd-af9e9c3dc809, anonymized=False, marked=False, direct_nodes=[], height=0, Gender=Node(level=1), Zipcode=Node(level=3))\n",
            "8\n"
          ]
        }
      ]
    },
    {
      "cell_type": "code",
      "source": [
        "def generalize_row(row, node, columns):\n",
        "  for column in columns:\n",
        "    row[column] = getattr(node, column).generalize(row[column])\n",
        "\n",
        "  return row\n",
        "    # print(row)\n"
      ],
      "metadata": {
        "id": "A5g4qrnj2-Bd"
      },
      "execution_count": 15,
      "outputs": []
    },
    {
      "cell_type": "code",
      "source": [
        "df.head()"
      ],
      "metadata": {
        "colab": {
          "base_uri": "https://localhost:8080/",
          "height": 357
        },
        "id": "QTu_HpxOWHeX",
        "outputId": "7edbb338-3c1f-400b-b34a-1179b2a78f32"
      },
      "execution_count": 16,
      "outputs": [
        {
          "output_type": "execute_result",
          "data": {
            "text/plain": [
              "   CLIENTNUM     Attrition_Flag  Customer_Age Gender  Dependent_count  \\\n",
              "0  768805383  Existing Customer            45      M                3   \n",
              "1  818770008  Existing Customer            49      F                5   \n",
              "2  713982108  Existing Customer            51      M                3   \n",
              "3  769911858  Existing Customer            40      F                4   \n",
              "4  709106358  Existing Customer            40      M                3   \n",
              "\n",
              "  Education_Level Marital_Status  Income Card_Category  Months_on_book  \\\n",
              "0     High School        Married   61501          Blue              39   \n",
              "1        Graduate         Single   21723          Blue              44   \n",
              "2        Graduate        Married  118804          Blue              36   \n",
              "3     High School        Unknown   35130          Blue              34   \n",
              "4      Uneducated        Married   62303          Blue              21   \n",
              "\n",
              "   Total_Relationship_Count  Months_Inactive_12_mon  Contacts_Count_12_mon  \\\n",
              "0                         5                       1                      3   \n",
              "1                         6                       1                      2   \n",
              "2                         4                       1                      0   \n",
              "3                         3                       4                      1   \n",
              "4                         5                       1                      0   \n",
              "\n",
              "   Credit_Limit  Total_Revolving_Bal  Avg_Open_To_Buy  Zipcode  \n",
              "0       12691.0                  777          11914.0    18914  \n",
              "1        8256.0                  864           7392.0    18625  \n",
              "2        3418.0                    0           3418.0    16878  \n",
              "3        3313.0                 2517            796.0    17490  \n",
              "4        4716.0                    0           4716.0    17879  "
            ],
            "text/html": [
              "\n",
              "  <div id=\"df-017997b6-0454-4002-a1ce-160bb660586a\">\n",
              "    <div class=\"colab-df-container\">\n",
              "      <div>\n",
              "<style scoped>\n",
              "    .dataframe tbody tr th:only-of-type {\n",
              "        vertical-align: middle;\n",
              "    }\n",
              "\n",
              "    .dataframe tbody tr th {\n",
              "        vertical-align: top;\n",
              "    }\n",
              "\n",
              "    .dataframe thead th {\n",
              "        text-align: right;\n",
              "    }\n",
              "</style>\n",
              "<table border=\"1\" class=\"dataframe\">\n",
              "  <thead>\n",
              "    <tr style=\"text-align: right;\">\n",
              "      <th></th>\n",
              "      <th>CLIENTNUM</th>\n",
              "      <th>Attrition_Flag</th>\n",
              "      <th>Customer_Age</th>\n",
              "      <th>Gender</th>\n",
              "      <th>Dependent_count</th>\n",
              "      <th>Education_Level</th>\n",
              "      <th>Marital_Status</th>\n",
              "      <th>Income</th>\n",
              "      <th>Card_Category</th>\n",
              "      <th>Months_on_book</th>\n",
              "      <th>Total_Relationship_Count</th>\n",
              "      <th>Months_Inactive_12_mon</th>\n",
              "      <th>Contacts_Count_12_mon</th>\n",
              "      <th>Credit_Limit</th>\n",
              "      <th>Total_Revolving_Bal</th>\n",
              "      <th>Avg_Open_To_Buy</th>\n",
              "      <th>Zipcode</th>\n",
              "    </tr>\n",
              "  </thead>\n",
              "  <tbody>\n",
              "    <tr>\n",
              "      <th>0</th>\n",
              "      <td>768805383</td>\n",
              "      <td>Existing Customer</td>\n",
              "      <td>45</td>\n",
              "      <td>M</td>\n",
              "      <td>3</td>\n",
              "      <td>High School</td>\n",
              "      <td>Married</td>\n",
              "      <td>61501</td>\n",
              "      <td>Blue</td>\n",
              "      <td>39</td>\n",
              "      <td>5</td>\n",
              "      <td>1</td>\n",
              "      <td>3</td>\n",
              "      <td>12691.0</td>\n",
              "      <td>777</td>\n",
              "      <td>11914.0</td>\n",
              "      <td>18914</td>\n",
              "    </tr>\n",
              "    <tr>\n",
              "      <th>1</th>\n",
              "      <td>818770008</td>\n",
              "      <td>Existing Customer</td>\n",
              "      <td>49</td>\n",
              "      <td>F</td>\n",
              "      <td>5</td>\n",
              "      <td>Graduate</td>\n",
              "      <td>Single</td>\n",
              "      <td>21723</td>\n",
              "      <td>Blue</td>\n",
              "      <td>44</td>\n",
              "      <td>6</td>\n",
              "      <td>1</td>\n",
              "      <td>2</td>\n",
              "      <td>8256.0</td>\n",
              "      <td>864</td>\n",
              "      <td>7392.0</td>\n",
              "      <td>18625</td>\n",
              "    </tr>\n",
              "    <tr>\n",
              "      <th>2</th>\n",
              "      <td>713982108</td>\n",
              "      <td>Existing Customer</td>\n",
              "      <td>51</td>\n",
              "      <td>M</td>\n",
              "      <td>3</td>\n",
              "      <td>Graduate</td>\n",
              "      <td>Married</td>\n",
              "      <td>118804</td>\n",
              "      <td>Blue</td>\n",
              "      <td>36</td>\n",
              "      <td>4</td>\n",
              "      <td>1</td>\n",
              "      <td>0</td>\n",
              "      <td>3418.0</td>\n",
              "      <td>0</td>\n",
              "      <td>3418.0</td>\n",
              "      <td>16878</td>\n",
              "    </tr>\n",
              "    <tr>\n",
              "      <th>3</th>\n",
              "      <td>769911858</td>\n",
              "      <td>Existing Customer</td>\n",
              "      <td>40</td>\n",
              "      <td>F</td>\n",
              "      <td>4</td>\n",
              "      <td>High School</td>\n",
              "      <td>Unknown</td>\n",
              "      <td>35130</td>\n",
              "      <td>Blue</td>\n",
              "      <td>34</td>\n",
              "      <td>3</td>\n",
              "      <td>4</td>\n",
              "      <td>1</td>\n",
              "      <td>3313.0</td>\n",
              "      <td>2517</td>\n",
              "      <td>796.0</td>\n",
              "      <td>17490</td>\n",
              "    </tr>\n",
              "    <tr>\n",
              "      <th>4</th>\n",
              "      <td>709106358</td>\n",
              "      <td>Existing Customer</td>\n",
              "      <td>40</td>\n",
              "      <td>M</td>\n",
              "      <td>3</td>\n",
              "      <td>Uneducated</td>\n",
              "      <td>Married</td>\n",
              "      <td>62303</td>\n",
              "      <td>Blue</td>\n",
              "      <td>21</td>\n",
              "      <td>5</td>\n",
              "      <td>1</td>\n",
              "      <td>0</td>\n",
              "      <td>4716.0</td>\n",
              "      <td>0</td>\n",
              "      <td>4716.0</td>\n",
              "      <td>17879</td>\n",
              "    </tr>\n",
              "  </tbody>\n",
              "</table>\n",
              "</div>\n",
              "      <button class=\"colab-df-convert\" onclick=\"convertToInteractive('df-017997b6-0454-4002-a1ce-160bb660586a')\"\n",
              "              title=\"Convert this dataframe to an interactive table.\"\n",
              "              style=\"display:none;\">\n",
              "        \n",
              "  <svg xmlns=\"http://www.w3.org/2000/svg\" height=\"24px\"viewBox=\"0 0 24 24\"\n",
              "       width=\"24px\">\n",
              "    <path d=\"M0 0h24v24H0V0z\" fill=\"none\"/>\n",
              "    <path d=\"M18.56 5.44l.94 2.06.94-2.06 2.06-.94-2.06-.94-.94-2.06-.94 2.06-2.06.94zm-11 1L8.5 8.5l.94-2.06 2.06-.94-2.06-.94L8.5 2.5l-.94 2.06-2.06.94zm10 10l.94 2.06.94-2.06 2.06-.94-2.06-.94-.94-2.06-.94 2.06-2.06.94z\"/><path d=\"M17.41 7.96l-1.37-1.37c-.4-.4-.92-.59-1.43-.59-.52 0-1.04.2-1.43.59L10.3 9.45l-7.72 7.72c-.78.78-.78 2.05 0 2.83L4 21.41c.39.39.9.59 1.41.59.51 0 1.02-.2 1.41-.59l7.78-7.78 2.81-2.81c.8-.78.8-2.07 0-2.86zM5.41 20L4 18.59l7.72-7.72 1.47 1.35L5.41 20z\"/>\n",
              "  </svg>\n",
              "      </button>\n",
              "      \n",
              "  <style>\n",
              "    .colab-df-container {\n",
              "      display:flex;\n",
              "      flex-wrap:wrap;\n",
              "      gap: 12px;\n",
              "    }\n",
              "\n",
              "    .colab-df-convert {\n",
              "      background-color: #E8F0FE;\n",
              "      border: none;\n",
              "      border-radius: 50%;\n",
              "      cursor: pointer;\n",
              "      display: none;\n",
              "      fill: #1967D2;\n",
              "      height: 32px;\n",
              "      padding: 0 0 0 0;\n",
              "      width: 32px;\n",
              "    }\n",
              "\n",
              "    .colab-df-convert:hover {\n",
              "      background-color: #E2EBFA;\n",
              "      box-shadow: 0px 1px 2px rgba(60, 64, 67, 0.3), 0px 1px 3px 1px rgba(60, 64, 67, 0.15);\n",
              "      fill: #174EA6;\n",
              "    }\n",
              "\n",
              "    [theme=dark] .colab-df-convert {\n",
              "      background-color: #3B4455;\n",
              "      fill: #D2E3FC;\n",
              "    }\n",
              "\n",
              "    [theme=dark] .colab-df-convert:hover {\n",
              "      background-color: #434B5C;\n",
              "      box-shadow: 0px 1px 3px 1px rgba(0, 0, 0, 0.15);\n",
              "      filter: drop-shadow(0px 1px 2px rgba(0, 0, 0, 0.3));\n",
              "      fill: #FFFFFF;\n",
              "    }\n",
              "  </style>\n",
              "\n",
              "      <script>\n",
              "        const buttonEl =\n",
              "          document.querySelector('#df-017997b6-0454-4002-a1ce-160bb660586a button.colab-df-convert');\n",
              "        buttonEl.style.display =\n",
              "          google.colab.kernel.accessAllowed ? 'block' : 'none';\n",
              "\n",
              "        async function convertToInteractive(key) {\n",
              "          const element = document.querySelector('#df-017997b6-0454-4002-a1ce-160bb660586a');\n",
              "          const dataTable =\n",
              "            await google.colab.kernel.invokeFunction('convertToInteractive',\n",
              "                                                     [key], {});\n",
              "          if (!dataTable) return;\n",
              "\n",
              "          const docLinkHtml = 'Like what you see? Visit the ' +\n",
              "            '<a target=\"_blank\" href=https://colab.research.google.com/notebooks/data_table.ipynb>data table notebook</a>'\n",
              "            + ' to learn more about interactive tables.';\n",
              "          element.innerHTML = '';\n",
              "          dataTable['output_type'] = 'display_data';\n",
              "          await google.colab.output.renderOutput(dataTable, element);\n",
              "          const docLink = document.createElement('div');\n",
              "          docLink.innerHTML = docLinkHtml;\n",
              "          element.appendChild(docLink);\n",
              "        }\n",
              "      </script>\n",
              "    </div>\n",
              "  </div>\n",
              "  "
            ]
          },
          "metadata": {},
          "execution_count": 16
        }
      ]
    },
    {
      "cell_type": "code",
      "source": [
        "def mark_direc_generalization(nodes, node):\n",
        "  for n in nodes:\n",
        "    if n.id in node.direct_nodes:\n",
        "      n.is_marked = True\n",
        "  return nodes"
      ],
      "metadata": {
        "id": "SeED8ucjmPDX"
      },
      "execution_count": 17,
      "outputs": []
    },
    {
      "cell_type": "code",
      "source": [
        "# Q = ['Gender', 'Customer_Age', 'Income', 'Zipcode' ]\n",
        "def incognito(df, k, Q):\n",
        "  n = len(Q)\n",
        "  nodes = []\n",
        "  S = [[] for _ in range(n)]\n",
        "  columns  = []\n",
        "  for i in range(1, len(Q) + 1):\n",
        "    column_combination = [list(comb) for comb in combinations(Q, i)]\n",
        "    # for each size of possible Q for example at first try to one, two and so on untile size of attributes\n",
        "    for columns in column_combination:\n",
        "      nodes = create_hirarchy(generalization_combination, columns)\n",
        "      for node in nodes:\n",
        "        if not node.marked:\n",
        "          node.marked = True\n",
        "          new_df = df.apply(generalize_row, args=(node,columns), axis=1)\n",
        "          if is_K_Anonymous(new_df, columns, k):\n",
        "            node.anonymized = True\n",
        "            S[i].append(node)\n",
        "            for n in nodes:\n",
        "              if n.id in node.direct_nodes:\n",
        "                n.is_marked = True\n",
        "                S[i].append(n)\n",
        "\n",
        "\n",
        "  return S\n",
        "\n"
      ],
      "metadata": {
        "id": "E7pqDZogNsly"
      },
      "execution_count": 18,
      "outputs": []
    },
    {
      "cell_type": "code",
      "source": [
        "s = incognito(df, 2, Q)"
      ],
      "metadata": {
        "id": "HzJ_f_thogpN"
      },
      "execution_count": 19,
      "outputs": []
    },
    {
      "cell_type": "code",
      "source": [
        "for _ in s:\n",
        "  for d in _:\n",
        "    print(d)"
      ],
      "metadata": {
        "colab": {
          "base_uri": "https://localhost:8080/"
        },
        "id": "Et7Gtamkrxnl",
        "outputId": "b6196593-6397-4fe1-bd95-29ad5a1095a1"
      },
      "execution_count": 20,
      "outputs": [
        {
          "output_type": "stream",
          "name": "stdout",
          "text": [
            "Node(id=895d68d0-cdef-4212-b275-feb87b0d7bcf, anonymized=True, marked=True, direct_nodes=[UUID('1b635560-9ae2-4de0-92ea-e60b83ab36c9')], height=0, Gender=Node(level=0))\n",
            "Node(id=1b635560-9ae2-4de0-92ea-e60b83ab36c9, anonymized=True, marked=True, direct_nodes=[], height=0, Gender=Node(level=1), is_marked=True)\n",
            "Node(id=1b635560-9ae2-4de0-92ea-e60b83ab36c9, anonymized=True, marked=True, direct_nodes=[], height=0, Gender=Node(level=1), is_marked=True)\n",
            "Node(id=2ed07649-3cd6-4555-b21d-493ff255b8b1, anonymized=True, marked=True, direct_nodes=[], height=0, Customer_Age=Node(level=1))\n",
            "Node(id=0248dd9f-660c-4905-be68-91635f14c71d, anonymized=True, marked=True, direct_nodes=[], height=0, Income=Node(level=1))\n",
            "Node(id=6ddc9adc-b3c3-4ca9-aac0-4ece993d0ba1, anonymized=True, marked=True, direct_nodes=[UUID('1e6d3a1c-2f9b-405f-83df-698056a296c9')], height=0, Zipcode=Node(level=1))\n",
            "Node(id=1e6d3a1c-2f9b-405f-83df-698056a296c9, anonymized=True, marked=True, direct_nodes=[UUID('1d6e0884-667b-47f2-8ecd-7d87e06ae390')], height=0, Zipcode=Node(level=2), is_marked=True)\n",
            "Node(id=1e6d3a1c-2f9b-405f-83df-698056a296c9, anonymized=True, marked=True, direct_nodes=[UUID('1d6e0884-667b-47f2-8ecd-7d87e06ae390')], height=0, Zipcode=Node(level=2), is_marked=True)\n",
            "Node(id=1d6e0884-667b-47f2-8ecd-7d87e06ae390, anonymized=True, marked=True, direct_nodes=[], height=0, Zipcode=Node(level=3), is_marked=True)\n",
            "Node(id=1d6e0884-667b-47f2-8ecd-7d87e06ae390, anonymized=True, marked=True, direct_nodes=[], height=0, Zipcode=Node(level=3), is_marked=True)\n",
            "Node(id=daa32506-aca9-48a4-b137-9d7a29b1e4c6, anonymized=True, marked=True, direct_nodes=[UUID('a1649aed-3557-4521-af5f-06d3a9085266')], height=0, Gender=Node(level=0), Customer_Age=Node(level=1))\n",
            "Node(id=a1649aed-3557-4521-af5f-06d3a9085266, anonymized=True, marked=True, direct_nodes=[], height=0, Gender=Node(level=1), Customer_Age=Node(level=1), is_marked=True)\n",
            "Node(id=a1649aed-3557-4521-af5f-06d3a9085266, anonymized=True, marked=True, direct_nodes=[], height=0, Gender=Node(level=1), Customer_Age=Node(level=1), is_marked=True)\n",
            "Node(id=c9c6f35e-456f-4ee0-ac4e-ddd3e42de710, anonymized=True, marked=True, direct_nodes=[UUID('c3ace847-4ffe-450a-9643-4b938d0507fa')], height=0, Gender=Node(level=0), Income=Node(level=1))\n",
            "Node(id=c3ace847-4ffe-450a-9643-4b938d0507fa, anonymized=True, marked=True, direct_nodes=[], height=0, Gender=Node(level=1), Income=Node(level=1), is_marked=True)\n",
            "Node(id=c3ace847-4ffe-450a-9643-4b938d0507fa, anonymized=True, marked=True, direct_nodes=[], height=0, Gender=Node(level=1), Income=Node(level=1), is_marked=True)\n",
            "Node(id=7276ec00-56db-4bb4-aefe-98a172cba487, anonymized=True, marked=True, direct_nodes=[UUID('d79aa2ed-70bd-4164-afb6-18319942b0db'), UUID('335c9c1a-0040-47b5-b8d4-8a9976a03577')], height=0, Gender=Node(level=0), Zipcode=Node(level=1))\n",
            "Node(id=d79aa2ed-70bd-4164-afb6-18319942b0db, anonymized=True, marked=True, direct_nodes=[UUID('12dbaf78-922b-41af-9708-3af46dd4d6e3'), UUID('e0afb553-0bf3-44f6-bf30-77e3c8ad7dcf')], height=0, Gender=Node(level=0), Zipcode=Node(level=2), is_marked=True)\n",
            "Node(id=335c9c1a-0040-47b5-b8d4-8a9976a03577, anonymized=True, marked=True, direct_nodes=[UUID('e0afb553-0bf3-44f6-bf30-77e3c8ad7dcf')], height=0, Gender=Node(level=1), Zipcode=Node(level=1), is_marked=True)\n",
            "Node(id=d79aa2ed-70bd-4164-afb6-18319942b0db, anonymized=True, marked=True, direct_nodes=[UUID('12dbaf78-922b-41af-9708-3af46dd4d6e3'), UUID('e0afb553-0bf3-44f6-bf30-77e3c8ad7dcf')], height=0, Gender=Node(level=0), Zipcode=Node(level=2), is_marked=True)\n",
            "Node(id=12dbaf78-922b-41af-9708-3af46dd4d6e3, anonymized=True, marked=True, direct_nodes=[UUID('1772d62e-041e-41c5-ab58-6b4de3ce6cab')], height=0, Gender=Node(level=0), Zipcode=Node(level=3), is_marked=True)\n",
            "Node(id=e0afb553-0bf3-44f6-bf30-77e3c8ad7dcf, anonymized=True, marked=True, direct_nodes=[UUID('1772d62e-041e-41c5-ab58-6b4de3ce6cab')], height=0, Gender=Node(level=1), Zipcode=Node(level=2), is_marked=True)\n",
            "Node(id=12dbaf78-922b-41af-9708-3af46dd4d6e3, anonymized=True, marked=True, direct_nodes=[UUID('1772d62e-041e-41c5-ab58-6b4de3ce6cab')], height=0, Gender=Node(level=0), Zipcode=Node(level=3), is_marked=True)\n",
            "Node(id=1772d62e-041e-41c5-ab58-6b4de3ce6cab, anonymized=True, marked=True, direct_nodes=[], height=0, Gender=Node(level=1), Zipcode=Node(level=3), is_marked=True)\n",
            "Node(id=335c9c1a-0040-47b5-b8d4-8a9976a03577, anonymized=True, marked=True, direct_nodes=[UUID('e0afb553-0bf3-44f6-bf30-77e3c8ad7dcf')], height=0, Gender=Node(level=1), Zipcode=Node(level=1), is_marked=True)\n",
            "Node(id=e0afb553-0bf3-44f6-bf30-77e3c8ad7dcf, anonymized=True, marked=True, direct_nodes=[UUID('1772d62e-041e-41c5-ab58-6b4de3ce6cab')], height=0, Gender=Node(level=1), Zipcode=Node(level=2), is_marked=True)\n",
            "Node(id=e0afb553-0bf3-44f6-bf30-77e3c8ad7dcf, anonymized=True, marked=True, direct_nodes=[UUID('1772d62e-041e-41c5-ab58-6b4de3ce6cab')], height=0, Gender=Node(level=1), Zipcode=Node(level=2), is_marked=True)\n",
            "Node(id=1772d62e-041e-41c5-ab58-6b4de3ce6cab, anonymized=True, marked=True, direct_nodes=[], height=0, Gender=Node(level=1), Zipcode=Node(level=3), is_marked=True)\n",
            "Node(id=1772d62e-041e-41c5-ab58-6b4de3ce6cab, anonymized=True, marked=True, direct_nodes=[], height=0, Gender=Node(level=1), Zipcode=Node(level=3), is_marked=True)\n",
            "Node(id=fac39e9e-03eb-48f3-8e03-21b9072b0271, anonymized=True, marked=True, direct_nodes=[], height=0, Customer_Age=Node(level=1), Income=Node(level=1))\n",
            "Node(id=52d08b21-9289-4609-b267-00c0bed1ec71, anonymized=True, marked=True, direct_nodes=[UUID('613757c4-83ba-43f1-8a12-2d8af377fffe')], height=0, Customer_Age=Node(level=1), Zipcode=Node(level=2))\n",
            "Node(id=613757c4-83ba-43f1-8a12-2d8af377fffe, anonymized=True, marked=True, direct_nodes=[], height=0, Customer_Age=Node(level=1), Zipcode=Node(level=3), is_marked=True)\n",
            "Node(id=613757c4-83ba-43f1-8a12-2d8af377fffe, anonymized=True, marked=True, direct_nodes=[], height=0, Customer_Age=Node(level=1), Zipcode=Node(level=3), is_marked=True)\n",
            "Node(id=e8879564-bae9-4c33-a2e1-34ce705cb265, anonymized=True, marked=True, direct_nodes=[UUID('da3cfb5e-fb7b-4d9e-a66c-bd0aa9d97502')], height=0, Income=Node(level=1), Zipcode=Node(level=2))\n",
            "Node(id=da3cfb5e-fb7b-4d9e-a66c-bd0aa9d97502, anonymized=True, marked=True, direct_nodes=[], height=0, Income=Node(level=1), Zipcode=Node(level=3), is_marked=True)\n",
            "Node(id=da3cfb5e-fb7b-4d9e-a66c-bd0aa9d97502, anonymized=True, marked=True, direct_nodes=[], height=0, Income=Node(level=1), Zipcode=Node(level=3), is_marked=True)\n",
            "Node(id=63bb78f5-dca7-4f6b-9c19-16dac67f6ade, anonymized=True, marked=True, direct_nodes=[], height=0, Gender=Node(level=1), Customer_Age=Node(level=1), Income=Node(level=1))\n",
            "Node(id=e26cb058-e81d-42de-9188-dd726ffac436, anonymized=True, marked=True, direct_nodes=[UUID('d54fa02d-c2a3-4928-a379-34d50285a0c0')], height=0, Gender=Node(level=0), Customer_Age=Node(level=1), Zipcode=Node(level=3))\n",
            "Node(id=d54fa02d-c2a3-4928-a379-34d50285a0c0, anonymized=True, marked=True, direct_nodes=[], height=0, Gender=Node(level=1), Customer_Age=Node(level=1), Zipcode=Node(level=3), is_marked=True)\n",
            "Node(id=7d571614-57e7-4265-a71f-183f14073e80, anonymized=True, marked=True, direct_nodes=[UUID('d54fa02d-c2a3-4928-a379-34d50285a0c0')], height=0, Gender=Node(level=1), Customer_Age=Node(level=1), Zipcode=Node(level=2))\n",
            "Node(id=d54fa02d-c2a3-4928-a379-34d50285a0c0, anonymized=True, marked=True, direct_nodes=[], height=0, Gender=Node(level=1), Customer_Age=Node(level=1), Zipcode=Node(level=3), is_marked=True)\n",
            "Node(id=d54fa02d-c2a3-4928-a379-34d50285a0c0, anonymized=True, marked=True, direct_nodes=[], height=0, Gender=Node(level=1), Customer_Age=Node(level=1), Zipcode=Node(level=3), is_marked=True)\n",
            "Node(id=505f9b9b-87e3-4408-9d3f-d81a54a71778, anonymized=True, marked=True, direct_nodes=[UUID('0f8889e5-19b7-4b3b-a6cf-b1b351112180')], height=0, Gender=Node(level=0), Income=Node(level=1), Zipcode=Node(level=3))\n",
            "Node(id=0f8889e5-19b7-4b3b-a6cf-b1b351112180, anonymized=True, marked=True, direct_nodes=[], height=0, Gender=Node(level=1), Income=Node(level=1), Zipcode=Node(level=3), is_marked=True)\n",
            "Node(id=201146e2-3c98-42db-b8fd-479e28f56cb3, anonymized=True, marked=True, direct_nodes=[UUID('0f8889e5-19b7-4b3b-a6cf-b1b351112180')], height=0, Gender=Node(level=1), Income=Node(level=1), Zipcode=Node(level=2))\n",
            "Node(id=0f8889e5-19b7-4b3b-a6cf-b1b351112180, anonymized=True, marked=True, direct_nodes=[], height=0, Gender=Node(level=1), Income=Node(level=1), Zipcode=Node(level=3), is_marked=True)\n",
            "Node(id=0f8889e5-19b7-4b3b-a6cf-b1b351112180, anonymized=True, marked=True, direct_nodes=[], height=0, Gender=Node(level=1), Income=Node(level=1), Zipcode=Node(level=3), is_marked=True)\n"
          ]
        }
      ]
    }
  ]
}